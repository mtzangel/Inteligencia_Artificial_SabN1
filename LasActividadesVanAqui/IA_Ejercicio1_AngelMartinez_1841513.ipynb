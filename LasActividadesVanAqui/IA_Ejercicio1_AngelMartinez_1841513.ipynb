{
  "cells": [
    {
      "cell_type": "markdown",
      "metadata": {
        "id": "view-in-github",
        "colab_type": "text"
      },
      "source": [
        "<a href=\"https://colab.research.google.com/github/mtzangel/Inteligencia_Artificial_SabN1/blob/main/LasActividadesVanAqui/IA_Ejercicio1_AngelMartinez_1841513.ipynb\" target=\"_parent\"><img src=\"https://colab.research.google.com/assets/colab-badge.svg\" alt=\"Open In Colab\"/></a>"
      ]
    },
    {
      "cell_type": "markdown",
      "metadata": {
        "id": "nzxxYqgH87qK"
      },
      "source": [
        "# A2: Ejercicios básicos en Python\n",
        "Angel Glafir Martínez Mendoza 1841513 Sabatinos N1-N3"
      ]
    },
    {
      "cell_type": "code",
      "execution_count": 3,
      "metadata": {
        "id": "ThPeaHgT9bDW",
        "colab": {
          "base_uri": "https://localhost:8080/"
        },
        "outputId": "e1ac2a33-92c1-4ffb-bcc6-220e61e83858"
      },
      "outputs": [
        {
          "output_type": "stream",
          "name": "stdout",
          "text": [
            "Por favor ingresar tu primer nombre (favor de iniciar con mayúscula): Ana\n",
            "Hola ten un buen día\n"
          ]
        }
      ],
      "source": [
        "\"Ejercicio 1: Escribe un programa que le pida al usuario por su nombre y que lo salude co su nombre, excepto si se llama Ana, Juan y Pedro\" #Descripción del ejercicio\n",
        "\n",
        "nombre=input(\"Por favor ingresar tu primer nombre (favor de iniciar con mayúscula): \")#str \n",
        "a=\"Ana\" #str\n",
        "j=\"Juan\" #str\n",
        "p=\"Pedro\" #str\n",
        "# Crearemos tres condicionales que detecten cuando escriba Ana, Juan o Pedro y si lo detecta salude al usuario sin decir su nombre\n",
        "if nombre == a:                                                     \n",
        "  print(\"Hola ten un buen día\")\n",
        "elif nombre == j:\n",
        "  print(\"Hola ten un buen día\")\n",
        "elif nombre == p:\n",
        "  print(\"Hola ten un buen día\")\n",
        "# Creamos un condicional que si no detecta los nombres Ana, Juan o Pedro, imprima un saludo con el nombre del usuario\n",
        "elif nombre != (a or j or p):\n",
        "  print(\"Hola\",nombre,\"ten un buen día\")\n",
        "   "
      ]
    },
    {
      "cell_type": "code",
      "execution_count": 2,
      "metadata": {
        "colab": {
          "base_uri": "https://localhost:8080/"
        },
        "id": "qlB0Z-gGxEs3",
        "outputId": "ea05e566-7320-4993-d0d5-55b00b008b5d"
      },
      "outputs": [
        {
          "output_type": "stream",
          "name": "stdout",
          "text": [
            "¿Desea conocer el ultimo elemento de la lista? (Si o No) Si\n",
            "Jugos\n",
            "¿Quieres revertir el orden de la lista? (Si o No) Si\n",
            "Jugos\n",
            "Pasta dental\n",
            "Pan\n",
            "Huevo\n",
            "Leche\n",
            "Jabón\n",
            "\n",
            "Listo, ten buen día\n"
          ]
        }
      ],
      "source": [
        "\"Ejercicio 2: Escribe una función que regrese el último elemento de una lista y que revierta el orden de la lista e imprima la lista revertida.\"\n",
        "\n",
        "lista=[\"Jabón\",\"Leche\",\"Huevo\",\"Pan\",\"Pasta dental\",\"Jugos\"] # Lista porporcionada\n",
        "# se consultará si se desea conocer el último elemento de la lista\n",
        "ult=input(\"¿Desea conocer el ultimo elemento de la lista? (Si o No) \") #str \n",
        "S=\"Si\" #str\n",
        "N=\"No\" #str\n",
        "if ult == S:\n",
        "  print(lista[5])\n",
        "# se pregunta si se desea revertir el orden de la lista y si la repsuesta es si, lo hara e imprimirá. Esto lo haremos con un if y for.\n",
        "rev=input(\"¿Quieres revertir el orden de la lista? (Si o No) \") #str\n",
        "if rev == S:\n",
        "  for x in range(len(lista) -1,-1,-1): #Se agregó len(lista) -1,-1-1 para que el for los empiece desde el ultimo hasta el primero.\n",
        "    print(lista[x])\n",
        "  print(\"\\nListo, ten buen día\")\n",
        "elif rev == N:\n",
        "  print(\"Ten buen día\")\n",
        " "
      ]
    },
    {
      "cell_type": "code",
      "source": [
        "\"Ejercicio 3: Escribe una función que toma una lista de strings y los imprima línea por línea en un marco rectangular\"\n",
        "\n",
        "msg=\"Escribir palabras menores de 17 letras\"\n",
        "print(msg)\n",
        "frase=input(\"Ingresar una frase: \")\n",
        "frase.split() #El comando .split lo utilizamos para pasar la frase a forma de tabla palabra por palabra.\n",
        "print(\"* * * * * * * * * *\")\n",
        "for x in frase.split(): #Utilizamos el for para que lea linea por linea de la tabla\n",
        "  fra=x[0:]\n",
        "  cadena=\"*{:<17}*\".format(fra) \n",
        "  print(cadena)\n",
        "print(\"* * * * * * * * * *\")\n",
        "\n",
        " "
      ],
      "metadata": {
        "colab": {
          "base_uri": "https://localhost:8080/"
        },
        "id": "vvioclH0NnF1",
        "outputId": "86b90973-c9e5-41cf-f049-35424893cf34"
      },
      "execution_count": 1,
      "outputs": [
        {
          "output_type": "stream",
          "name": "stdout",
          "text": [
            "Escribir palabras menores de 17 letras\n",
            "Ingresar una frase: La UANL anunció el dia de ayer que las clases serán presenciales al 100%\n",
            "* * * * * * * * * *\n",
            "*La               *\n",
            "*UANL             *\n",
            "*anunció          *\n",
            "*el               *\n",
            "*dia              *\n",
            "*de               *\n",
            "*ayer             *\n",
            "*que              *\n",
            "*las              *\n",
            "*clases           *\n",
            "*serán            *\n",
            "*presenciales     *\n",
            "*al               *\n",
            "*100%             *\n",
            "* * * * * * * * * *\n"
          ]
        }
      ]
    }
  ],
  "metadata": {
    "colab": {
      "collapsed_sections": [],
      "name": "IA_Ejercicio1_AngelMartinez_1841513.ipynb",
      "provenance": [],
      "authorship_tag": "ABX9TyNC0HMpu9FDPVhqMn1DpTQC",
      "include_colab_link": true
    },
    "kernelspec": {
      "display_name": "Python 3",
      "name": "python3"
    },
    "language_info": {
      "name": "python"
    }
  },
  "nbformat": 4,
  "nbformat_minor": 0
}
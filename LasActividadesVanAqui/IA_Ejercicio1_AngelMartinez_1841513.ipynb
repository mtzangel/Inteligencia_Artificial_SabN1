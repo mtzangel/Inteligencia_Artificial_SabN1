{
  "cells": [
    {
      "cell_type": "markdown",
      "metadata": {
        "id": "view-in-github",
        "colab_type": "text"
      },
      "source": [
        "<a href=\"https://colab.research.google.com/github/mtzangel/Inteligencia_Artificial_SabN1/blob/main/LasActividadesVanAqui/IA_Ejercicio1_AngelMartinez_1841513.ipynb\" target=\"_parent\"><img src=\"https://colab.research.google.com/assets/colab-badge.svg\" alt=\"Open In Colab\"/></a>"
      ]
    },
    {
      "cell_type": "markdown",
      "metadata": {
        "id": "nzxxYqgH87qK"
      },
      "source": [
        "# A2: Ejercicios básicos en Python\n",
        "Angel Glafir Martínez Mendoza 1841513 Sabatinos N1-N3"
      ]
    },
    {
      "cell_type": "code",
      "execution_count": null,
      "metadata": {
        "id": "ThPeaHgT9bDW",
        "colab": {
          "base_uri": "https://localhost:8080/"
        },
        "outputId": "0b61424c-d7e3-4750-ace2-65d5a2e201bd"
      },
      "outputs": [
        {
          "output_type": "stream",
          "name": "stdout",
          "text": [
            "Por favor ingresar tu primer nombre (favor de iniciar con mayúscula): Angel\n",
            "Hola Angel ten un buen día\n"
          ]
        }
      ],
      "source": [
        "\"Ejercicio 1: Escribe un programa que le pida al usuario por su nombre y que lo salude co su nombre, excepto si se llama Ana, Juan y Pedro\"\n",
        "\n",
        "nombre=input(\"Por favor ingresar tu primer nombre (favor de iniciar con mayúscula): \")#str\n",
        "a=\"Ana\" #str\n",
        "j=\"Juan\" #str\n",
        "p=\"Pedro\" #str\n",
        "\n",
        "if nombre == a:\n",
        "  print(\"Hola ten un buen día\")\n",
        "elif nombre == j:\n",
        "  print(\"Hola ten un buen día\")\n",
        "elif nombre == p:\n",
        "  print(\"Hola ten un buen día\")\n",
        "elif nombre != (a or j or p):\n",
        "  print(\"Hola\",nombre,\"ten un buen día\")\n",
        "   "
      ]
    },
    {
      "cell_type": "code",
      "execution_count": null,
      "metadata": {
        "colab": {
          "base_uri": "https://localhost:8080/"
        },
        "id": "qlB0Z-gGxEs3",
        "outputId": "b1488e5b-1b21-47ce-f452-70537c3889c0"
      },
      "outputs": [
        {
          "output_type": "stream",
          "name": "stdout",
          "text": [
            "¿Desea conocer el ultimo elemento de la lista? (Si o No) Si\n",
            "Jugos\n",
            "¿Quieres revertir el orden de la lista? (Si o No) Si\n",
            "Jugos\n",
            "Pasta dental\n",
            "Pan\n",
            "Huevo\n",
            "Leche\n",
            "Jabón\n",
            "\n",
            "Listo, ten buen día\n"
          ]
        }
      ],
      "source": [
        "\"Ejercicio 2: Escribe una función que regrese el último elemento de una lista y que revierta el orden de la lista e imprima la lista revertida.\"\n",
        "\n",
        "lista=[\"Jabón\",\"Leche\",\"Huevo\",\"Pan\",\"Pasta dental\",\"Jugos\"]\n",
        "ult=input(\"¿Desea conocer el ultimo elemento de la lista? (Si o No) \") #str\n",
        "S=\"Si\" #str\n",
        "N=\"No\" #str\n",
        "if ult == S:\n",
        "  print(lista[5])\n",
        "\n",
        "rev=input(\"¿Quieres revertir el orden de la lista? (Si o No) \") #str\n",
        "if rev == S:\n",
        "  for x in range(len(lista) -1,-1,-1):\n",
        "    print(lista[x])\n",
        "  print(\"\\nListo, ten buen día\")\n",
        "elif rev == N:\n",
        "  print(\"Ten buen día\")\n",
        " "
      ]
    },
    {
      "cell_type": "code",
      "source": [
        "\"Ejercicio 3: Escribe una función que toma una lista de strings y los imprima línea por línea en un marco rectangular\"\n",
        "msg=\"Escribir palabras menores de 17 letras\"\n",
        "print(msg)\n",
        "frase=input(\"Ingresar una frase: \")\n",
        "frase.split()\n",
        "print(\"* * * * * * * * * *\")\n",
        "for x in frase.split():\n",
        "  fra=x[0:]\n",
        "  cadena=\"*{:<17}*\".format(fra)\n",
        "  print(cadena)\n",
        "print(\"* * * * * * * * * *\")\n",
        "\n",
        " "
      ],
      "metadata": {
        "colab": {
          "base_uri": "https://localhost:8080/"
        },
        "id": "vvioclH0NnF1",
        "outputId": "9935b12e-e5bc-4921-ce9c-d3c55eb85d1d"
      },
      "execution_count": null,
      "outputs": [
        {
          "output_type": "stream",
          "name": "stdout",
          "text": [
            "Escribir palabras menores de 17 letras\n",
            "Ingresar una frase: La universidad autonoma de nuevo leon anunció que apartir de hoy son clases presenciales al 100%\n",
            "* * * * * * * * * *\n",
            "*La               *\n",
            "*universidad      *\n",
            "*autonoma         *\n",
            "*de               *\n",
            "*nuevo            *\n",
            "*leon             *\n",
            "*anunció          *\n",
            "*que              *\n",
            "*apartir          *\n",
            "*de               *\n",
            "*hoy              *\n",
            "*son              *\n",
            "*clases           *\n",
            "*presenciales     *\n",
            "*al               *\n",
            "*100%             *\n",
            "* * * * * * * * * *\n"
          ]
        }
      ]
    }
  ],
  "metadata": {
    "colab": {
      "collapsed_sections": [],
      "name": "IA_Ejercicio1_AngelMartinez_1841513.ipynb",
      "provenance": [],
      "authorship_tag": "ABX9TyOfpBYfrw/5I/VI+OIGTjlM",
      "include_colab_link": true
    },
    "kernelspec": {
      "display_name": "Python 3",
      "name": "python3"
    },
    "language_info": {
      "name": "python"
    }
  },
  "nbformat": 4,
  "nbformat_minor": 0
}